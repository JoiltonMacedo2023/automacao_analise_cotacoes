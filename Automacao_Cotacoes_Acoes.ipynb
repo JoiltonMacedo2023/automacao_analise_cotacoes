{
 "cells": [
  {
   "cell_type": "code",
   "execution_count": null,
   "id": "e2ed8da0",
   "metadata": {},
   "outputs": [],
   "source": [
    "### Instalando e importando a biblioteca yfinance "
   ]
  },
  {
   "cell_type": "code",
   "execution_count": null,
   "id": "4251d718",
   "metadata": {},
   "outputs": [],
   "source": [
    "!pip install yfinance"
   ]
  },
  {
   "cell_type": "code",
   "execution_count": 1,
   "id": "9e2afaf1",
   "metadata": {},
   "outputs": [],
   "source": [
    "import yfinance as yf"
   ]
  },
  {
   "cell_type": "markdown",
   "id": "af4e6486",
   "metadata": {},
   "source": [
    "### Buscando as cotações das ações através do site : https://br.financas.yahoo.com/quote/%5EBVSP/components?p=%5EBVSP (buscar o símbolo/sigla do componente da multinacional) "
   ]
  },
  {
   "cell_type": "code",
   "execution_count": 51,
   "id": "a3ce87bb",
   "metadata": {},
   "outputs": [
    {
     "name": "stdout",
     "output_type": "stream",
     "text": [
      "Digite o código da ação: PETR4.SA\n"
     ]
    }
   ],
   "source": [
    "ticker = input('Digite o código da ação: ')\n",
    "# exempLo: Petrobras: PETR4.SA\n",
    "\n",
    "dados = yf.Ticker(ticker)"
   ]
  },
  {
   "cell_type": "markdown",
   "id": "c367445b",
   "metadata": {},
   "source": [
    "### Gerando tabela com dados de acordo com especificações de período( dias, meses)"
   ]
  },
  {
   "cell_type": "code",
   "execution_count": 52,
   "id": "21f6e8d7",
   "metadata": {},
   "outputs": [
    {
     "data": {
      "text/html": [
       "<div>\n",
       "<style scoped>\n",
       "    .dataframe tbody tr th:only-of-type {\n",
       "        vertical-align: middle;\n",
       "    }\n",
       "\n",
       "    .dataframe tbody tr th {\n",
       "        vertical-align: top;\n",
       "    }\n",
       "\n",
       "    .dataframe thead th {\n",
       "        text-align: right;\n",
       "    }\n",
       "</style>\n",
       "<table border=\"1\" class=\"dataframe\">\n",
       "  <thead>\n",
       "    <tr style=\"text-align: right;\">\n",
       "      <th></th>\n",
       "      <th>Open</th>\n",
       "      <th>High</th>\n",
       "      <th>Low</th>\n",
       "      <th>Close</th>\n",
       "      <th>Volume</th>\n",
       "      <th>Dividends</th>\n",
       "      <th>Stock Splits</th>\n",
       "    </tr>\n",
       "    <tr>\n",
       "      <th>Date</th>\n",
       "      <th></th>\n",
       "      <th></th>\n",
       "      <th></th>\n",
       "      <th></th>\n",
       "      <th></th>\n",
       "      <th></th>\n",
       "      <th></th>\n",
       "    </tr>\n",
       "  </thead>\n",
       "  <tbody>\n",
       "    <tr>\n",
       "      <th>2023-08-17 00:00:00-03:00</th>\n",
       "      <td>30.584173</td>\n",
       "      <td>31.008016</td>\n",
       "      <td>30.160329</td>\n",
       "      <td>30.285557</td>\n",
       "      <td>57570600</td>\n",
       "      <td>0.000000</td>\n",
       "      <td>0.0</td>\n",
       "    </tr>\n",
       "    <tr>\n",
       "      <th>2023-08-18 00:00:00-03:00</th>\n",
       "      <td>30.256658</td>\n",
       "      <td>30.516744</td>\n",
       "      <td>30.035104</td>\n",
       "      <td>30.362619</td>\n",
       "      <td>45579700</td>\n",
       "      <td>0.000000</td>\n",
       "      <td>0.0</td>\n",
       "    </tr>\n",
       "    <tr>\n",
       "      <th>2023-08-21 00:00:00-03:00</th>\n",
       "      <td>30.536010</td>\n",
       "      <td>30.853891</td>\n",
       "      <td>29.832813</td>\n",
       "      <td>30.150696</td>\n",
       "      <td>42236900</td>\n",
       "      <td>0.000000</td>\n",
       "      <td>0.0</td>\n",
       "    </tr>\n",
       "    <tr>\n",
       "      <th>2023-08-22 00:00:00-03:00</th>\n",
       "      <td>30.500000</td>\n",
       "      <td>30.610001</td>\n",
       "      <td>30.240000</td>\n",
       "      <td>30.610001</td>\n",
       "      <td>31372200</td>\n",
       "      <td>1.149304</td>\n",
       "      <td>0.0</td>\n",
       "    </tr>\n",
       "    <tr>\n",
       "      <th>2023-08-23 00:00:00-03:00</th>\n",
       "      <td>31.200001</td>\n",
       "      <td>32.240002</td>\n",
       "      <td>31.090000</td>\n",
       "      <td>32.240002</td>\n",
       "      <td>95507400</td>\n",
       "      <td>0.000000</td>\n",
       "      <td>0.0</td>\n",
       "    </tr>\n",
       "    <tr>\n",
       "      <th>2023-08-24 00:00:00-03:00</th>\n",
       "      <td>32.270000</td>\n",
       "      <td>32.720001</td>\n",
       "      <td>31.840000</td>\n",
       "      <td>32.189999</td>\n",
       "      <td>49332300</td>\n",
       "      <td>0.000000</td>\n",
       "      <td>0.0</td>\n",
       "    </tr>\n",
       "    <tr>\n",
       "      <th>2023-08-25 00:00:00-03:00</th>\n",
       "      <td>32.380001</td>\n",
       "      <td>32.470001</td>\n",
       "      <td>31.799999</td>\n",
       "      <td>31.969999</td>\n",
       "      <td>33989200</td>\n",
       "      <td>0.000000</td>\n",
       "      <td>0.0</td>\n",
       "    </tr>\n",
       "  </tbody>\n",
       "</table>\n",
       "</div>"
      ],
      "text/plain": [
       "                                Open       High        Low      Close  \\\n",
       "Date                                                                    \n",
       "2023-08-17 00:00:00-03:00  30.584173  31.008016  30.160329  30.285557   \n",
       "2023-08-18 00:00:00-03:00  30.256658  30.516744  30.035104  30.362619   \n",
       "2023-08-21 00:00:00-03:00  30.536010  30.853891  29.832813  30.150696   \n",
       "2023-08-22 00:00:00-03:00  30.500000  30.610001  30.240000  30.610001   \n",
       "2023-08-23 00:00:00-03:00  31.200001  32.240002  31.090000  32.240002   \n",
       "2023-08-24 00:00:00-03:00  32.270000  32.720001  31.840000  32.189999   \n",
       "2023-08-25 00:00:00-03:00  32.380001  32.470001  31.799999  31.969999   \n",
       "\n",
       "                             Volume  Dividends  Stock Splits  \n",
       "Date                                                          \n",
       "2023-08-17 00:00:00-03:00  57570600   0.000000           0.0  \n",
       "2023-08-18 00:00:00-03:00  45579700   0.000000           0.0  \n",
       "2023-08-21 00:00:00-03:00  42236900   0.000000           0.0  \n",
       "2023-08-22 00:00:00-03:00  31372200   1.149304           0.0  \n",
       "2023-08-23 00:00:00-03:00  95507400   0.000000           0.0  \n",
       "2023-08-24 00:00:00-03:00  49332300   0.000000           0.0  \n",
       "2023-08-25 00:00:00-03:00  33989200   0.000000           0.0  "
      ]
     },
     "execution_count": 52,
     "metadata": {},
     "output_type": "execute_result"
    }
   ],
   "source": [
    "tabela = dados.history('7d') # 7 dias\n",
    "tabela"
   ]
  },
  {
   "cell_type": "markdown",
   "id": "53b97e39",
   "metadata": {},
   "source": [
    "### Selecionando apenas uma coluna"
   ]
  },
  {
   "cell_type": "code",
   "execution_count": 53,
   "id": "cadbbdf5",
   "metadata": {},
   "outputs": [
    {
     "data": {
      "text/plain": [
       "Date\n",
       "2023-08-17 00:00:00-03:00    30.285557\n",
       "2023-08-18 00:00:00-03:00    30.362619\n",
       "2023-08-21 00:00:00-03:00    30.150696\n",
       "2023-08-22 00:00:00-03:00    30.610001\n",
       "2023-08-23 00:00:00-03:00    32.240002\n",
       "2023-08-24 00:00:00-03:00    32.189999\n",
       "2023-08-25 00:00:00-03:00    31.969999\n",
       "Name: Close, dtype: float64"
      ]
     },
     "execution_count": 53,
     "metadata": {},
     "output_type": "execute_result"
    }
   ],
   "source": [
    "fechamento = tabela.Close\n",
    "fechamento"
   ]
  },
  {
   "cell_type": "markdown",
   "id": "e5f50ab2",
   "metadata": {},
   "source": [
    "### Gerando um gráfico de linha "
   ]
  },
  {
   "cell_type": "code",
   "execution_count": 54,
   "id": "61dbeb8f",
   "metadata": {},
   "outputs": [
    {
     "data": {
      "text/plain": [
       "<Axes: xlabel='Date'>"
      ]
     },
     "execution_count": 54,
     "metadata": {},
     "output_type": "execute_result"
    },
    {
     "data": {
      "image/png": "[encoded data removed]",
      "text/plain": [
       "<Figure size 640x480 with 1 Axes>"
      ]
     },
     "metadata": {},
     "output_type": "display_data"
    }
   ],
   "source": [
    "fechamento.plot()"
   ]
  },
  {
   "cell_type": "markdown",
   "id": "4b30c63f",
   "metadata": {},
   "source": [
    "### Gerando as estatísiticas do dados"
   ]
  },
  {
   "cell_type": "code",
   "execution_count": 55,
   "id": "b867d8b5",
   "metadata": {},
   "outputs": [
    {
     "name": "stdout",
     "output_type": "stream",
     "text": [
      "32.2400016784668\n",
      "30.15069580078125\n",
      "31.969999313354492\n"
     ]
    }
   ],
   "source": [
    "maxima = fechamento.max()\n",
    "minima = fechamento.min()\n",
    "atual = fechamento[-1]\n",
    "\n",
    "print(maxima)\n",
    "print(minima)\n",
    "print(atual)"
   ]
  },
  {
   "cell_type": "markdown",
   "id": "6993ed05",
   "metadata": {},
   "source": [
    "## instalando e importando as bibliotecas"
   ]
  },
  {
   "cell_type": "code",
   "execution_count": null,
   "id": "961c61d5",
   "metadata": {},
   "outputs": [],
   "source": [
    "!pip install pyautogui"
   ]
  },
  {
   "cell_type": "code",
   "execution_count": null,
   "id": "5a4b8535",
   "metadata": {},
   "outputs": [],
   "source": [
    "!pip install pyperclip "
   ]
  },
  {
   "cell_type": "code",
   "execution_count": 56,
   "id": "1551f337",
   "metadata": {},
   "outputs": [],
   "source": [
    "import pyautogui\n",
    "import pyperclip\n"
   ]
  },
  {
   "cell_type": "markdown",
   "id": "74c1f0b5",
   "metadata": {},
   "source": [
    "## Criando as variáveis e script do envio do email"
   ]
  },
  {
   "cell_type": "code",
   "execution_count": 57,
   "id": "8131de2a",
   "metadata": {},
   "outputs": [],
   "source": [
    "destinatario = 'joiltonmacedo1981@outlook.com'\n",
    "assunto = 'Análise diária'\n",
    "\n",
    "mensagem = f\"\"\"\n",
    "Saudações,\n",
    "segue abaixo, as análises da ação {ticker} dos últimos 7 dias:\n",
    "\n",
    "Cotação máxima: R$ {round(maxima, 2)}\n",
    "Cotação mínima: R$ {round(minima, 2)}\n",
    "Cotação atual:  R$ {round(atual, 2)}\n",
    "\n",
    "Atenciosamente,\n",
    "\n",
    "                                  Joilton Macedo\"\"\""
   ]
  },
  {
   "cell_type": "code",
   "execution_count": 58,
   "id": "9d00efd3",
   "metadata": {},
   "outputs": [
    {
     "name": "stdout",
     "output_type": "stream",
     "text": [
      "joiltonmacedo1981@outlook.com\n",
      "Análise diária\n",
      "\n",
      "Saudações,\n",
      "segue abaixo, as análises da ação PETR4.SA dos últimos 7 dias:\n",
      "\n",
      "Cotação máxima: R$ 32.24\n",
      "Cotação mínima: R$ 30.15\n",
      "Cotação atual:  R$ 31.97\n",
      "\n",
      "Atenciosamente,\n",
      "\n",
      "                                  Joilton Macedo\n"
     ]
    }
   ],
   "source": [
    "print(destinatario)\n",
    "print(assunto)\n",
    "print(mensagem)"
   ]
  },
  {
   "cell_type": "markdown",
   "id": "22f7814e",
   "metadata": {},
   "source": [
    "##  Automatizando o envio do email"
   ]
  },
  {
   "cell_type": "code",
   "execution_count": 59,
   "id": "677ce9fc",
   "metadata": {},
   "outputs": [
    {
     "name": "stdout",
     "output_type": "stream",
     "text": [
      "E-mail enviado com sucesso\n"
     ]
    }
   ],
   "source": [
    "pyautogui.PAUSE = 4\n",
    "\n",
    "pyautogui.hotkey('ctrl', 't')\n",
    "    \n",
    "pyperclip.copy('www.gmail.com')\n",
    "pyautogui.hotkey('ctrl','v')\n",
    "pyautogui.press('enter')\n",
    "\n",
    "pyautogui.click(x=144, y=171)\n",
    "\n",
    "pyperclip.copy(destinatario)\n",
    "pyautogui.hotkey('ctrl','v')\n",
    "pyautogui.press('tab')\n",
    "\n",
    "pyperclip.copy(assunto)\n",
    "pyautogui.hotkey('ctrl','v')\n",
    "pyautogui.press('tab')\n",
    "\n",
    "pyperclip.copy(mensagem)\n",
    "pyautogui.hotkey('ctrl','v')\n",
    "\n",
    "pyautogui.click(x=852, y=686)\n",
    "\n",
    "pyautogui.hotkey('ctrl', 'f4')\n",
    "\n",
    "print('E-mail enviado com sucesso')\n",
    "\n",
    "\n"
   ]
  },
  {
   "cell_type": "code",
   "execution_count": null,
   "id": "591ea51c",
   "metadata": {},
   "outputs": [],
   "source": [
    "### Descobrir as coordenadas do mouse"
   ]
  },
  {
   "cell_type": "code",
   "execution_count": null,
   "id": "9e255945",
   "metadata": {},
   "outputs": [],
   "source": [
    "\n",
    "import time\n",
    "\n",
    "time.sleep(5)\n",
    "pyautogui.position()"
   ]
  },
  {
   "cell_type": "code",
   "execution_count": null,
   "id": "975eaef2",
   "metadata": {},
   "outputs": [],
   "source": []
  }
 ],
 "metadata": {
  "kernelspec": {
   "display_name": "Python 3 (ipykernel)",
   "language": "python",
   "name": "python3"
  },
  "language_info": {
   "codemirror_mode": {
    "name": "ipython",
    "version": 3
   },
   "file_extension": ".py",
   "mimetype": "text/x-python",
   "name": "python",
   "nbconvert_exporter": "python",
   "pygments_lexer": "ipython3",
   "version": "3.11.4"
  }
 },
 "nbformat": 4,
 "nbformat_minor": 5
}
